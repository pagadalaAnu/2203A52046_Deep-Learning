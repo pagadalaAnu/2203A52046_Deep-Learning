{
  "nbformat": 4,
  "nbformat_minor": 0,
  "metadata": {
    "colab": {
      "provenance": [],
      "authorship_tag": "ABX9TyP3160/7ogAvFO2UjHGQR9X",
      "include_colab_link": true
    },
    "kernelspec": {
      "name": "python3",
      "display_name": "Python 3"
    },
    "language_info": {
      "name": "python"
    }
  },
  "cells": [
    {
      "cell_type": "markdown",
      "metadata": {
        "id": "view-in-github",
        "colab_type": "text"
      },
      "source": [
        "<a href=\"https://colab.research.google.com/github/pagadalaAnu/2203A52046_Deep-Learning/blob/main/2203A52046_PAGADALA_ANANYA_DEEP_LEARNING(ACTIVITY_8).ipynb\" target=\"_parent\"><img src=\"https://colab.research.google.com/assets/colab-badge.svg\" alt=\"Open In Colab\"/></a>"
      ]
    },
    {
      "source": [
        "import numpy as np\n",
        "import pandas as pd\n",
        "import matplotlib.pyplot as plt\n",
        "from sklearn.model_selection import train_test_split\n",
        "from sklearn.preprocessing import StandardScaler\n",
        "from sklearn.metrics import mean_squared_error, mean_absolute_error\n",
        "\n",
        "# Hyperparameters\n",
        "eta = 0.1\n",
        "gamma = 0.9\n",
        "m = 1\n",
        "c = -1\n",
        "epochs = 100\n",
        "epsilon = 1e-8\n",
        "df = pd.read_excel(\"/content/Load Data in kW.xlsx\")\n",
        "\n",
        "print(df.columns)\n",
        "\n",
        "# Extract the target variable y\n",
        "y = df[df.columns[0]].values\n",
        "\n",
        "# Create X as a sequence of numbers with the same length as y\n",
        "X = np.arange(len(y)).reshape(-1, 1) # Create X before normalizing y\n",
        "\n",
        "# Normalize data\n",
        "scaler = StandardScaler()\n",
        "X = scaler.fit_transform(X) # Fit and transform X\n",
        "\n",
        "# Normalize y\n",
        "y = (y - y.mean()) / y.std()\n",
        "\n",
        "# Now X and y have the same length, so train_test_split should work\n",
        "X_train, X_test, y_train, y_test = train_test_split(X, y, test_size=0.1, random_state=42)\n",
        "\n",
        "v_m = 0\n",
        "v_c = 0\n",
        "\n",
        "# Training loop\n",
        "for epoch in range(epochs):\n",
        "    grad_m = -np.mean((y_train - (m * X_train.flatten() + c)) * X_train.flatten())\n",
        "    grad_c = -np.mean(y_train - (m * X_train.flatten() + c))\n",
        "\n",
        "    v_m = gamma * v_m + (1 - gamma) * grad_m**2\n",
        "    v_c = gamma * v_c + (1 - gamma) * grad_c**2\n",
        "\n",
        "    m -= (eta / (np.sqrt(v_m) + epsilon)) * grad_m\n",
        "    c -= (eta / (np.sqrt(v_c) + epsilon)) * grad_c\n",
        "\n",
        "    if epoch % 10 == 0:\n",
        "        print(f\"Epoch {epoch}: m = {m}, c = {c}\")"
      ],
      "cell_type": "code",
      "metadata": {
        "colab": {
          "base_uri": "https://localhost:8080/"
        },
        "id": "A63ejfnjxYr7",
        "outputId": "b3532115-65a6-4a0f-a623-15cc94ecafe7"
      },
      "execution_count": 9,
      "outputs": [
        {
          "output_type": "stream",
          "name": "stdout",
          "text": [
            "Index([5551.82208], dtype='float64')\n",
            "Epoch 0: m = 0.6837722437626285, c = -0.6837722439635849\n",
            "Epoch 10: m = -0.0005106152939507013, c = -0.01895705817873305\n",
            "Epoch 20: m = -0.02555281366982927, c = 0.0020719360523681375\n",
            "Epoch 30: m = -0.025601400756924342, c = 0.0021007294441134435\n",
            "Epoch 40: m = -0.02560140075811667, c = 0.0021007294440499075\n",
            "Epoch 50: m = -0.025601400758116653, c = 0.00210072944405\n",
            "Epoch 60: m = -0.025601400757769645, c = 0.002100729448000836\n",
            "Epoch 70: m = -0.025594938004843526, c = 0.0022136745549333875\n",
            "Epoch 80: m = -0.017126865563776548, c = 0.004389840783511688\n",
            "Epoch 90: m = 0.003687425437832327, c = 0.015204619734234363\n"
          ]
        }
      ]
    },
    {
      "cell_type": "code",
      "source": [
        "\n",
        "# Compute errors for train data\n",
        "y_train_pred = m * X_train.flatten() + c\n",
        "mse_train = mean_squared_error(y_train, y_train_pred)\n",
        "rmse_train = np.sqrt(mse_train)\n",
        "mae_train = mean_absolute_error(y_train, y_train_pred)\n",
        "\n",
        "# Compute errors for test data\n",
        "y_test_pred = m * X_test.flatten() + c\n",
        "mse_test = mean_squared_error(y_test, y_test_pred)\n",
        "rmse_test = np.sqrt(mse_test)\n",
        "mae_test = mean_absolute_error(y_test, y_test_pred)\n",
        "\n",
        "print(\"Training Errors:\")\n",
        "print(f\"MSE: {mse_train}, RMSE: {rmse_train}, MAE: {mae_train}\")\n",
        "\n",
        "print(\"Testing Errors:\")\n",
        "print(f\"MSE: {mse_test}, RMSE: {rmse_test}, MAE: {mae_test}\")"
      ],
      "metadata": {
        "colab": {
          "base_uri": "https://localhost:8080/"
        },
        "id": "SArSZ2lUxha4",
        "outputId": "b376111f-bebd-407f-8b91-c2596a4e9070"
      },
      "execution_count": 10,
      "outputs": [
        {
          "output_type": "stream",
          "name": "stdout",
          "text": [
            "Training Errors:\n",
            "MSE: 1.1114171131973252, RMSE: 1.0542376929314021, MAE: 0.0771743490297112\n",
            "Testing Errors:\n",
            "MSE: 0.004846931197530202, RMSE: 0.069619905181853, MAE: 0.05609711598651805\n"
          ]
        }
      ]
    },
    {
      "cell_type": "code",
      "source": [
        "# Plot results\n",
        "plt.scatter(X_train, y_train, color='blue', label='Actual')\n",
        "plt.plot(X_train, y_train_pred, color='red', label='Predicted')\n",
        "plt.xlabel(\"Load Yesterday\")\n",
        "plt.ylabel(\"Load Today\")\n",
        "plt.title(\"Linear Regression with RMSprop Optimizer\")\n",
        "plt.legend()\n",
        "plt.show()"
      ],
      "metadata": {
        "colab": {
          "base_uri": "https://localhost:8080/",
          "height": 472
        },
        "id": "uLaW-0-qxoi4",
        "outputId": "73384a03-77ca-4185-8a55-bfe5f453d9aa"
      },
      "execution_count": 11,
      "outputs": [
        {
          "output_type": "display_data",
          "data": {
            "text/plain": [
              "<Figure size 640x480 with 1 Axes>"
            ],
            "image/png": "[encoded data removed]"
          },
          "metadata": {}
        }
      ]
    }
  ]
}