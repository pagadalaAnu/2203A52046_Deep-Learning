{
  "nbformat": 4,
  "nbformat_minor": 0,
  "metadata": {
    "colab": {
      "provenance": [],
      "authorship_tag": "ABX9TyNZiZDSxa8csxP8bsPU2bBg",
      "include_colab_link": true
    },
    "kernelspec": {
      "name": "python3",
      "display_name": "Python 3"
    },
    "language_info": {
      "name": "python"
    }
  },
  "cells": [
    {
      "cell_type": "markdown",
      "metadata": {
        "id": "view-in-github",
        "colab_type": "text"
      },
      "source": [
        "<a href=\"https://colab.research.google.com/github/pagadalaAnu/2203A52046_Deep-Learning/blob/main/2203A52046_PAGADALA_ANANYA_DL_LAB_ASSIGNMENT_4.ipynb\" target=\"_parent\"><img src=\"https://colab.research.google.com/assets/colab-badge.svg\" alt=\"Open In Colab\"/></a>"
      ]
    },
    {
      "cell_type": "markdown",
      "source": [
        "**CODE WITHOUT LIBRARIES OF NUMPY:**"
      ],
      "metadata": {
        "id": "msZi2z9CPkyG"
      }
    },
    {
      "source": [
        "import math\n",
        "data = [\n",
        "    (0.1, 0.2, 0.3, 0.5349),\n",
        "    (0.2, 0.3, 0.4, 0.5498),\n",
        "    (0.3, 0.4, 0.5, 0.5646),\n",
        "    (0.5, 0.6, 0.7, 0.5939),\n",
        "    (0.1, 0.3, 0.5, 0.5548),\n",
        "    (0.2, 0.4, 0.6, 0.5695),\n",
        "    (0.3, 0.5, 0.7, 0.5842),\n",
        "    (0.4, 0.6, 0.8, 0.5987),\n",
        "    (0.5, 0.7, 0.1, 0.5548),\n",
        "]\n",
        "W1, W2, W3, b = 0.2, 0.1, 0.3, 0.4\n",
        "learning_rate = 0.1\n",
        "epochs = 1000\n",
        "def sigmoid(x):\n",
        "    return 1 / (1 + math.exp(-x))\n",
        "def sigmoid_derivative(x):\n",
        "    return x * (1 - x)\n",
        "for epoch in range(epochs):\n",
        "    total_error = 0\n",
        "    for x1, x2, x3, y in data:\n",
        "        z = W1 * x1 + W2 * x2 + W3 * x3 + b\n",
        "        y_pred = sigmoid(z)\n",
        "        error = y_pred - y\n",
        "        total_error += error ** 2\n",
        "        d_output = error * sigmoid_derivative(y_pred)\n",
        "        dW1 = d_output * x1\n",
        "        dW2 = d_output * x2\n",
        "        dW3 = d_output * x3\n",
        "        db = d_output\n",
        "        W1 -= learning_rate * dW1\n",
        "        W2 -= learning_rate * dW2\n",
        "        W3 -= learning_rate * dW3\n",
        "        b -= learning_rate * db\n",
        "    if epoch % 100 == 0:\n",
        "        print(f\"Epoch {epoch}, Loss: {total_error / len(data)}\")\n",
        "def predict(x1, x2, x3):\n",
        "    z = W1 * x1 + W2 * x2 + W3 * x3 + b\n",
        "    return sigmoid(z)\n",
        "user_input = input(\"Enter x1, x2, x3 separated by spaces: \")\n",
        "x1, x2, x3 = map(float, user_input.replace(',', '').split())\n",
        "print(\"Predicted output:\", predict(x1, x2, x3))"
      ],
      "cell_type": "code",
      "metadata": {
        "colab": {
          "base_uri": "https://localhost:8080/"
        },
        "id": "19Pp1GjgO3YQ",
        "outputId": "29aacec2-a6f5-4739-fc1c-cdd630aff314"
      },
      "execution_count": 8,
      "outputs": [
        {
          "output_type": "stream",
          "name": "stdout",
          "text": [
            "Epoch 0, Loss: 0.007758971174805249\n",
            "Epoch 100, Loss: 7.946769682818606e-05\n",
            "Epoch 200, Loss: 5.655104249570286e-05\n",
            "Epoch 300, Loss: 4.040695285892147e-05\n",
            "Epoch 400, Loss: 2.9028174675801313e-05\n",
            "Epoch 500, Loss: 2.100547841048891e-05\n",
            "Epoch 600, Loss: 1.5346601793198216e-05\n",
            "Epoch 700, Loss: 1.1352850257795503e-05\n",
            "Epoch 800, Loss: 8.532198609030342e-06\n",
            "Epoch 900, Loss: 6.538118795712101e-06\n",
            "Enter x1, x2, x3 separated by spaces: 0.1, 0.2, 0.3\n",
            "Predicted output: 0.5390210439704513\n"
          ]
        }
      ]
    },
    {
      "cell_type": "markdown",
      "source": [
        "**CODE WITH LIBRARIES WITH NUMPY:**"
      ],
      "metadata": {
        "id": "abvnypFMPuFT"
      }
    },
    {
      "cell_type": "code",
      "source": [
        "import numpy as np\n",
        "X = np.array([\n",
        "    [0.1, 0.2, 0.3],\n",
        "    [0.2, 0.3, 0.4],\n",
        "    [0.3, 0.4, 0.5],\n",
        "    [0.5, 0.6, 0.7],\n",
        "    [0.1, 0.3, 0.5],\n",
        "    [0.2, 0.4, 0.6],\n",
        "    [0.3, 0.5, 0.7],\n",
        "    [0.4, 0.6, 0.8],\n",
        "    [0.5, 0.7, 0.1],\n",
        "])\n",
        "Y = np.array([0.5349, 0.5498, 0.5646, 0.5939, 0.5548, 0.5695, 0.5842, 0.5987, 0.5548])\n",
        "W = np.array([0.2, 0.1, 0.3])\n",
        "b = 0.4\n",
        "learning_rate = 0.1\n",
        "epochs = 1000\n",
        "def sigmoid(x):\n",
        "    return 1 / (1 + np.exp(-x))\n",
        "def sigmoid_derivative(x):\n",
        "    return x * (1 - x)\n",
        "for epoch in range(epochs):\n",
        "    total_error = 0\n",
        "    for i in range(len(X)):\n",
        "        z = np.dot(W, X[i]) + b\n",
        "        y_pred = sigmoid(z)\n",
        "        error = y_pred - Y[i]\n",
        "        total_error += error ** 2\n",
        "        d_output = error * sigmoid_derivative(y_pred)\n",
        "        dW = d_output * X[i]\n",
        "        db = d_output\n",
        "        W -= learning_rate * dW\n",
        "        b -= learning_rate * db\n",
        "    if epoch % 100 == 0:\n",
        "        print(f\"Epoch {epoch}, Loss: {total_error / len(X)}\")\n",
        "def predict(x1, x2, x3):\n",
        "    z = np.dot(W, np.array([x1, x2, x3])) + b\n",
        "    return sigmoid(z)\n",
        "user_input = input(\"Enter x1, x2, x3 separated by spaces or commas: \")\n",
        "inputs = user_input.replace(',', ' ').replace('  ', ' ').split()\n",
        "x1, x2, x3 = map(float, inputs)\n",
        "print(\"Predicted output:\", predict(x1, x2, x3))"
      ],
      "metadata": {
        "colab": {
          "base_uri": "https://localhost:8080/"
        },
        "id": "pXL-bpb5NGix",
        "outputId": "43477344-cbaa-455a-8052-ac7967b4c871"
      },
      "execution_count": 9,
      "outputs": [
        {
          "output_type": "stream",
          "name": "stdout",
          "text": [
            "Epoch 0, Loss: 0.007758971174805249\n",
            "Epoch 100, Loss: 7.946769682818606e-05\n",
            "Epoch 200, Loss: 5.655104249570286e-05\n",
            "Epoch 300, Loss: 4.040695285892147e-05\n",
            "Epoch 400, Loss: 2.9028174675801313e-05\n",
            "Epoch 500, Loss: 2.100547841048891e-05\n",
            "Epoch 600, Loss: 1.5346601793198216e-05\n",
            "Epoch 700, Loss: 1.1352850257795503e-05\n",
            "Epoch 800, Loss: 8.532198609030342e-06\n",
            "Epoch 900, Loss: 6.538118795712101e-06\n",
            "Enter x1, x2, x3 separated by spaces or commas: 0.1, 0.2, 0.3\n",
            "Predicted output: 0.5390210439704513\n"
          ]
        }
      ]
    }
  ]
}