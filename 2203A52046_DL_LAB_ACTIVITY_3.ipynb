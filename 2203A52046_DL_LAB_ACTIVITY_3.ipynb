{
  "nbformat": 4,
  "nbformat_minor": 0,
  "metadata": {
    "colab": {
      "provenance": [],
      "authorship_tag": "ABX9TyNtD7xr57pfWdPwkqzd8092",
      "include_colab_link": true
    },
    "kernelspec": {
      "name": "python3",
      "display_name": "Python 3"
    },
    "language_info": {
      "name": "python"
    }
  },
  "cells": [
    {
      "cell_type": "markdown",
      "metadata": {
        "id": "view-in-github",
        "colab_type": "text"
      },
      "source": [
        "<a href=\"https://colab.research.google.com/github/pagadalaAnu/2203A52046_Deep-Learning/blob/main/2203A52046_DL_LAB_ACTIVITY_3.ipynb\" target=\"_parent\"><img src=\"https://colab.research.google.com/assets/colab-badge.svg\" alt=\"Open In Colab\"/></a>"
      ]
    },
    {
      "cell_type": "markdown",
      "source": [
        "**1.CODE FOR THE FIRST QUESTION WITHOUT LIBRARIES**"
      ],
      "metadata": {
        "id": "9-BqLz9zAKok"
      }
    },
    {
      "cell_type": "code",
      "execution_count": 1,
      "metadata": {
        "colab": {
          "base_uri": "https://localhost:8080/"
        },
        "id": "_2PlkquN4Lfd",
        "outputId": "c1ddcf6a-29ed-4e5f-f73d-faff793e7174"
      },
      "outputs": [
        {
          "output_type": "stream",
          "name": "stdout",
          "text": [
            "Minimum value of f(x) is approximately 10.000000000802812 at x = 1.63586104206045e-05 after 165 iterations.\n"
          ]
        }
      ],
      "source": [
        "def f(x):\n",
        "    return 5 * x**4 + 3 * x**2 + 10\n",
        "def f_prime(x):\n",
        "    return 20 * x**3 + 6 * x\n",
        "def gradient_descent_without_libs(initial_x, learning_rate, tolerance, max_iterations):\n",
        "    x = initial_x\n",
        "    iteration = 0\n",
        "    while iteration < max_iterations:\n",
        "        grad = f_prime(x)\n",
        "        new_x = x - learning_rate * grad\n",
        "        if abs(new_x - x) < tolerance:\n",
        "            break\n",
        "        x = new_x\n",
        "        iteration += 1\n",
        "    return x, f(x), iteration\n",
        "initial_x = 1.0\n",
        "learning_rate = 0.01\n",
        "tolerance = 1e-6\n",
        "max_iterations = 10000\n",
        "min_x, min_f, iterations = gradient_descent_without_libs(initial_x, learning_rate, tolerance, max_iterations)\n",
        "print(f\"Minimum value of f(x) is approximately {min_f} at x = {min_x} after {iterations} iterations.\")"
      ]
    },
    {
      "cell_type": "markdown",
      "source": [
        "**1.CODE FOR THE FIRST QUESTION WITH LIBRARIES**"
      ],
      "metadata": {
        "id": "yX9dThh3Eh_g"
      }
    },
    {
      "cell_type": "code",
      "source": [
        "import numpy as np\n",
        "def f(x):\n",
        "    return 5 * x**4 + 3 * x**2 + 10\n",
        "def f_prime(x):\n",
        "    return 20 * x**3 + 6 * x\n",
        "def gradient_descent_with_libs(initial_x, learning_rate, tolerance, max_iterations):\n",
        "    x = initial_x\n",
        "    for iteration in range(max_iterations):\n",
        "        grad = f_prime(x)\n",
        "        new_x = x - learning_rate * grad\n",
        "        if np.abs(new_x - x) < tolerance:\n",
        "            break\n",
        "        x = new_x\n",
        "    return x, f(x), iteration + 1\n",
        "initial_x = 1.0\n",
        "learning_rate = 0.01\n",
        "tolerance = 1e-6\n",
        "max_iterations = 10000\n",
        "min_x, min_f, iterations = gradient_descent_with_libs(initial_x, learning_rate, tolerance, max_iterations)\n",
        "print(f\"Minimum value of f(x) is approximately {min_f} at x = {min_x} after {iterations} iterations.\")\n"
      ],
      "metadata": {
        "colab": {
          "base_uri": "https://localhost:8080/"
        },
        "id": "E2N_cXtoFuHE",
        "outputId": "b41f9c42-430a-42ae-c7a4-3c14b3d46874"
      },
      "execution_count": 2,
      "outputs": [
        {
          "output_type": "stream",
          "name": "stdout",
          "text": [
            "Minimum value of f(x) is approximately 10.000000000802812 at x = 1.63586104206045e-05 after 166 iterations.\n"
          ]
        }
      ]
    },
    {
      "cell_type": "markdown",
      "source": [
        "**2.CODE FOR THE SECOND QUESTION WITHOUT LIBRARIES**"
      ],
      "metadata": {
        "id": "1js5y--tFyKJ"
      }
    },
    {
      "cell_type": "code",
      "source": [
        "def g(x, y):\n",
        "    return 3 * x**2 + 5 * (2.71828**(-y)) + 10\n",
        "def g_prime_x(x, y):\n",
        "    return 6 * x\n",
        "def g_prime_y(x, y):\n",
        "    return -5 * (2.71828**(-y))\n",
        "def gradient_descent_without_libs(initial_x, initial_y, learning_rate, tolerance, max_iterations):\n",
        "    x, y = initial_x, initial_y\n",
        "    iteration = 0\n",
        "    while iteration < max_iterations:\n",
        "        grad_x = g_prime_x(x, y)\n",
        "        grad_y = g_prime_y(x, y)\n",
        "        new_x = x - learning_rate * grad_x\n",
        "        new_y = y - learning_rate * grad_y\n",
        "        if abs(new_x - x) < tolerance and abs(new_y - y) < tolerance:\n",
        "            break\n",
        "        x, y = new_x, new_y\n",
        "        iteration += 1\n",
        "    return x, y, g(x, y), iteration\n",
        "initial_x = 1.0\n",
        "initial_y = 1.0\n",
        "learning_rate = 0.01\n",
        "tolerance = 1e-6\n",
        "max_iterations = 10000\n",
        "min_x, min_y, min_g, iterations = gradient_descent_without_libs(initial_x, initial_y, learning_rate, tolerance, max_iterations)\n",
        "print(f\"Minimum value of g(x, y) is approximately {min_g} at x = {min_x}, y = {min_y} after {iterations} iterations.\")\n"
      ],
      "metadata": {
        "colab": {
          "base_uri": "https://localhost:8080/"
        },
        "id": "Ll5a79SRF2Hz",
        "outputId": "2788f436-399c-444c-87af-04a4a80684f0"
      },
      "execution_count": 3,
      "outputs": [
        {
          "output_type": "stream",
          "name": "stdout",
          "text": [
            "Minimum value of g(x, y) is approximately 10.009943350656059 at x = 1.8990482403275175e-269, y = 6.220293323511809 after 10000 iterations.\n"
          ]
        }
      ]
    },
    {
      "cell_type": "markdown",
      "source": [
        "**2.CODE FOR THE SECOND QUESTION WITH LIBRARIES**"
      ],
      "metadata": {
        "id": "fUsoYeG0F4gQ"
      }
    },
    {
      "cell_type": "code",
      "source": [
        "import numpy as np\n",
        "def g(x, y):\n",
        "    return 3 * x**2 + 5 * np.exp(-y) + 10\n",
        "def g_prime_x(x, y):\n",
        "    return 6 * x\n",
        "def g_prime_y(x, y):\n",
        "    return -5 * np.exp(-y)\n",
        "def gradient_descent_with_libs(initial_x, initial_y, learning_rate, tolerance, max_iterations):\n",
        "    x, y = initial_x, initial_y\n",
        "    for iteration in range(max_iterations):\n",
        "        grad_x = g_prime_x(x, y)\n",
        "        grad_y = g_prime_y(x, y)\n",
        "        new_x = x - learning_rate * grad_x\n",
        "        new_y = y - learning_rate * grad_y\n",
        "        if np.abs(new_x - x) < tolerance and np.abs(new_y - y) < tolerance:\n",
        "            break\n",
        "        x, y = new_x, new_y\n",
        "    return x, y, g(x, y), iteration + 1\n",
        "initial_x = 1.0\n",
        "initial_y = 1.0\n",
        "learning_rate = 0.01\n",
        "tolerance = 1e-6\n",
        "max_iterations = 10000\n",
        "min_x, min_y, min_g, iterations = gradient_descent_with_libs(initial_x, initial_y, learning_rate, tolerance, max_iterations)\n",
        "print(f\"Minimum value of g(x, y) is approximately {min_g} at x = {min_x}, y = {min_y} after {iterations} iterations.\")"
      ],
      "metadata": {
        "colab": {
          "base_uri": "https://localhost:8080/"
        },
        "id": "PFy3r6aRF9xB",
        "outputId": "7a44da17-aeb2-4b61-bfa4-5316e29a6f83"
      },
      "execution_count": 4,
      "outputs": [
        {
          "output_type": "stream",
          "name": "stdout",
          "text": [
            "Minimum value of g(x, y) is approximately 10.009943343967636 at x = 1.8990482403275175e-269, y = 6.220289812067548 after 10000 iterations.\n"
          ]
        }
      ]
    },
    {
      "cell_type": "markdown",
      "source": [
        "**3.CODE FOR THE THIRD QUESTION WITHOUT LIBRARIES**"
      ],
      "metadata": {
        "id": "r3hRlbQLGAOf"
      }
    },
    {
      "cell_type": "code",
      "source": [
        "def z(x):\n",
        "    return 1 / (1 + 2.71828**(-x))\n",
        "def z_prime(x):\n",
        "    sigmoid = z(x)\n",
        "    return sigmoid * (1 - sigmoid)\n",
        "def gradient_descent_without_libs(initial_x, learning_rate, tolerance, max_iterations):\n",
        "    x = initial_x\n",
        "    iteration = 0\n",
        "    while iteration < max_iterations:\n",
        "        grad = z_prime(x)\n",
        "        new_x = x - learning_rate * grad\n",
        "        if abs(new_x - x) < tolerance:\n",
        "            break\n",
        "        x = new_x\n",
        "        iteration += 1\n",
        "    return x, z_prime(x), iteration\n",
        "initial_x = 1.0\n",
        "learning_rate = 0.1\n",
        "tolerance = 1e-6\n",
        "max_iterations = 10000\n",
        "min_x, min_z_prime, iterations = gradient_descent_without_libs(initial_x, learning_rate, tolerance, max_iterations)\n",
        "print(f\"Minimum value of z'(x) is approximately {min_z_prime} at x = {min_x} after {iterations} iterations.\")"
      ],
      "metadata": {
        "colab": {
          "base_uri": "https://localhost:8080/"
        },
        "id": "UooHcO7zGErr",
        "outputId": "1811cb9c-432e-47d3-a539-ac26890e31b4"
      },
      "execution_count": 5,
      "outputs": [
        {
          "output_type": "stream",
          "name": "stdout",
          "text": [
            "Minimum value of z'(x) is approximately 0.00101612091341867 at x = -6.889732215688654 after 10000 iterations.\n"
          ]
        }
      ]
    },
    {
      "cell_type": "markdown",
      "source": [
        "**3.CODE FOR THE THIRD QUESTION WITH LIBRARIES**"
      ],
      "metadata": {
        "id": "h-Bzc-wLGHhe"
      }
    },
    {
      "cell_type": "code",
      "source": [
        "import numpy as np\n",
        "def z(x):\n",
        "    return 1 / (1 + np.exp(-x))\n",
        "def z_prime(x):\n",
        "    sigmoid = z(x)\n",
        "    return sigmoid * (1 - sigmoid)\n",
        "def gradient_descent_with_libs(initial_x, learning_rate, tolerance, max_iterations):\n",
        "    x = initial_x\n",
        "    for iteration in range(max_iterations):\n",
        "        grad = z_prime(x)\n",
        "        new_x = x - learning_rate * grad\n",
        "        if np.abs(new_x - x) < tolerance:\n",
        "            break\n",
        "        x = new_x\n",
        "    return x, z_prime(x), iteration + 1\n",
        "initial_x = 1.0\n",
        "learning_rate = 0.1\n",
        "tolerance = 1e-6\n",
        "max_iterations = 10000\n",
        "min_x, min_z_prime, iterations = gradient_descent_with_libs(initial_x, learning_rate, tolerance, max_iterations)\n",
        "print(f\"Minimum value of z'(x) is approximately {min_z_prime} at x = {min_x} after {iterations} iterations.\")\n"
      ],
      "metadata": {
        "colab": {
          "base_uri": "https://localhost:8080/"
        },
        "id": "8AH3feRsGLwh",
        "outputId": "d56f6521-06f6-4c58-d4f4-7dac901c90d7"
      },
      "execution_count": 6,
      "outputs": [
        {
          "output_type": "stream",
          "name": "stdout",
          "text": [
            "Minimum value of z'(x) is approximately 0.0010161202236406146 at x = -6.8897282615101805 after 10000 iterations.\n"
          ]
        }
      ]
    },
    {
      "cell_type": "markdown",
      "source": [
        "**4.CODE FOR THE FOURTH QUESTION WITHOUT LIBRARIES**"
      ],
      "metadata": {
        "id": "h03z1zDBGO2h"
      }
    },
    {
      "cell_type": "code",
      "source": [
        "def square_error(M, C, Input, ExpectedOutput):\n",
        "    PredictedOutput = M * Input + C\n",
        "    return (ExpectedOutput - PredictedOutput) ** 2\n",
        "def gradient_M(M, C, Input, ExpectedOutput):\n",
        "    PredictedOutput = M * Input + C\n",
        "    return -2 * Input * (ExpectedOutput - PredictedOutput)\n",
        "def gradient_C(M, C, Input, ExpectedOutput):\n",
        "    PredictedOutput = M * Input + C\n",
        "    return -2 * (ExpectedOutput - PredictedOutput)\n",
        "def gradient_descent_without_libs(Input, ExpectedOutput, learning_rate, tolerance, max_iterations):\n",
        "    M, C = 0.0, 0.0\n",
        "    iteration = 0\n",
        "    while iteration < max_iterations:\n",
        "        grad_M = gradient_M(M, C, Input, ExpectedOutput)\n",
        "        grad_C = gradient_C(M, C, Input, ExpectedOutput)\n",
        "        new_M = M - learning_rate * grad_M\n",
        "        new_C = C - learning_rate * grad_C\n",
        "        if abs(new_M - M) < tolerance and abs(new_C - C) < tolerance:\n",
        "            break\n",
        "        M, C = new_M, new_C\n",
        "        iteration += 1\n",
        "    return M, C, square_error(M, C, Input, ExpectedOutput), iteration\n",
        "Input = 2.0\n",
        "ExpectedOutput = 0.5\n",
        "learning_rate = 0.01\n",
        "tolerance = 1e-6\n",
        "max_iterations = 10000\n",
        "optimal_M, optimal_C, final_error, iterations = gradient_descent_without_libs(Input, ExpectedOutput, learning_rate, tolerance, max_iterations)\n",
        "print(f\"Optimal M: {optimal_M}, Optimal C: {optimal_C}\")\n",
        "print(f\"Final Square Error: {final_error} after {iterations} iterations.\")\n"
      ],
      "metadata": {
        "colab": {
          "base_uri": "https://localhost:8080/"
        },
        "id": "6byU2cLSGSdF",
        "outputId": "bb680f36-cd2a-4999-f961-e2f975a9f329"
      },
      "execution_count": 7,
      "outputs": [
        {
          "output_type": "stream",
          "name": "stdout",
          "text": [
            "Optimal M: 0.1999900040083894, Optimal C: 0.0999950020041947\n",
            "Final Square Error: 6.244990517449996e-10 after 94 iterations.\n"
          ]
        }
      ]
    },
    {
      "cell_type": "markdown",
      "source": [
        "**4.CODE FOR THE FOURTH QUESTION WITH LIBRARIES**"
      ],
      "metadata": {
        "id": "uXimIvhxGU7W"
      }
    },
    {
      "cell_type": "code",
      "source": [
        "import numpy as np\n",
        "def square_error(M, C, Input, ExpectedOutput):\n",
        "    PredictedOutput = M * Input + C\n",
        "    return (ExpectedOutput - PredictedOutput) ** 2\n",
        "def gradient_M(M, C, Input, ExpectedOutput):\n",
        "    PredictedOutput = M * Input + C\n",
        "    return -2 * Input * (ExpectedOutput - PredictedOutput)\n",
        "def gradient_C(M, C, Input, ExpectedOutput):\n",
        "    PredictedOutput = M * Input + C\n",
        "    return -2 * (ExpectedOutput - PredictedOutput)\n",
        "def gradient_descent_with_libs(Input, ExpectedOutput, learning_rate, tolerance, max_iterations):\n",
        "    M, C = 0.0, 0.0\n",
        "    for iteration in range(max_iterations):\n",
        "        grad_M = gradient_M(M, C, Input, ExpectedOutput)\n",
        "        grad_C = gradient_C(M, C, Input, ExpectedOutput)\n",
        "        new_M = M - learning_rate * grad_M\n",
        "        new_C = C - learning_rate * grad_C\n",
        "        if np.abs(new_M - M) < tolerance and np.abs(new_C - C) < tolerance:\n",
        "            break\n",
        "        M, C = new_M, new_C\n",
        "    return M, C, square_error(M, C, Input, ExpectedOutput), iteration + 1\n",
        "Input = 2.0\n",
        "ExpectedOutput = 0.5\n",
        "learning_rate = 0.01\n",
        "tolerance = 1e-6\n",
        "max_iterations = 10000\n",
        "optimal_M, optimal_C, final_error, iterations = gradient_descent_with_libs(Input, ExpectedOutput, learning_rate, tolerance, max_iterations)\n",
        "print(f\"Optimal M: {optimal_M}, Optimal C: {optimal_C}\")\n",
        "print(f\"Final Square Error: {final_error} after {iterations} iterations.\")\n"
      ],
      "metadata": {
        "colab": {
          "base_uri": "https://localhost:8080/"
        },
        "id": "TgSU75mqGYSn",
        "outputId": "66b00446-8d62-49cb-84dc-f3d4e26d6fa3"
      },
      "execution_count": 8,
      "outputs": [
        {
          "output_type": "stream",
          "name": "stdout",
          "text": [
            "Optimal M: 0.1999900040083894, Optimal C: 0.0999950020041947\n",
            "Final Square Error: 6.244990517449996e-10 after 95 iterations.\n"
          ]
        }
      ]
    }
  ]
}