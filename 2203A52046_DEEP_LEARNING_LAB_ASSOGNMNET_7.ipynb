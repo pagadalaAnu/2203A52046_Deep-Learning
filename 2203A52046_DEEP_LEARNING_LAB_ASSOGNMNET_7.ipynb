{
  "nbformat": 4,
  "nbformat_minor": 0,
  "metadata": {
    "colab": {
      "provenance": [],
      "authorship_tag": "ABX9TyPI3AjjWFrhILDb+WQ/2NNK",
      "include_colab_link": true
    },
    "kernelspec": {
      "name": "python3",
      "display_name": "Python 3"
    },
    "language_info": {
      "name": "python"
    }
  },
  "cells": [
    {
      "cell_type": "markdown",
      "metadata": {
        "id": "view-in-github",
        "colab_type": "text"
      },
      "source": [
        "<a href=\"https://colab.research.google.com/github/pagadalaAnu/2203A52046_Deep-Learning/blob/main/2203A52046_DEEP_LEARNING_LAB_ASSOGNMNET_7.ipynb\" target=\"_parent\"><img src=\"https://colab.research.google.com/assets/colab-badge.svg\" alt=\"Open In Colab\"/></a>"
      ]
    },
    {
      "cell_type": "code",
      "execution_count": null,
      "metadata": {
        "id": "Wbv0fxkNbH05"
      },
      "outputs": [],
      "source": [
        "import numpy as np\n",
        "import pandas as pd\n",
        "import matplotlib.pyplot as plt\n",
        "from sklearn.model_selection import train_test_split\n",
        "from sklearn.metrics import mean_squared_error, mean_absolute_error\n"
      ]
    },
    {
      "source": [
        "# Load the dataset\n",
        "file_path = \"/content/slr09.xls\"\n",
        "df = pd.read_excel(file_path, engine='xlrd') # or engine='openpyxl'\n",
        "\n",
        "# Display the first few rows and columns to understand the structure\n",
        "print(df.head())\n",
        "print(df.columns) # Print the column names\n",
        "\n",
        "# Normalize data\n",
        "# Ensure the column names below match the actual column names in your dataframe\n",
        "# You might need to adjust them based on the output of df.columns\n",
        "df['X'] = (df['X'] - df['X'].mean()) / df['X'].std()  # Replace 'Previous_Week_Load' with the correct column name\n",
        "df['Y'] = (df['Y'] - df['Y'].mean()) / df['Y'].std()  # Replace 'Current_Week_Load' with the correct column name"
      ],
      "cell_type": "code",
      "metadata": {
        "colab": {
          "base_uri": "https://localhost:8080/"
        },
        "id": "McG6py2BlQIG",
        "outputId": "47c86801-7b33-4ea7-e3f7-ef3a118c3d76"
      },
      "execution_count": null,
      "outputs": [
        {
          "output_type": "stream",
          "name": "stdout",
          "text": [
            "*** No CODEPAGE record, no encoding_override: will use 'iso-8859-1'\n",
            "     X    Y\n",
            "0  7.6  157\n",
            "1  7.1  174\n",
            "2  8.2  175\n",
            "3  7.5  188\n",
            "4  7.4  171\n",
            "Index(['X', 'Y'], dtype='object')\n"
          ]
        }
      ]
    },
    {
      "source": [
        "X = df['X'].values.reshape(-1, 1)\n",
        "y = df['Y'].values.reshape(-1, 1)\n",
        "\n",
        "X_train, X_test, y_train, y_test = train_test_split(X, y, test_size=0.1, random_state=42)"
      ],
      "cell_type": "code",
      "metadata": {
        "id": "SbK9nJkwlYSn"
      },
      "execution_count": null,
      "outputs": []
    },
    {
      "cell_type": "code",
      "source": [
        "# Initialize parameters\n",
        "m, c = 1.0, -1.0  # Given in the problem\n",
        "eta = 0.1  # Learning rate\n",
        "epochs = 100  # Given in the problem\n",
        "\n",
        "# Initialize squared gradient accumulators\n",
        "G_m, G_c = 0, 0\n",
        "epsilon = 1e-8  # To prevent division by zero\n",
        "\n",
        "# Training loop\n",
        "for epoch in range(epochs):\n",
        "    grad_m, grad_c = 0, 0\n",
        "\n",
        "    # Compute gradients\n",
        "    for i in range(len(X_train)):\n",
        "        xi = X_train[i]\n",
        "        yi = y_train[i]\n",
        "        pred = m * xi + c\n",
        "\n",
        "        grad_m += -2 * (yi - pred) * xi\n",
        "        grad_c += -2 * (yi - pred)\n",
        "\n",
        "    # Update squared gradient sums\n",
        "    G_m += grad_m**2\n",
        "    G_c += grad_c**2\n",
        "\n",
        "    # Update parameters using AdaGrad formula\n",
        "    m -= (eta / (np.sqrt(G_m) + epsilon)) * grad_m\n",
        "    c -= (eta / (np.sqrt(G_c) + epsilon)) * grad_c\n",
        "\n",
        "    # Print progress\n",
        "    if epoch % 10 == 0:\n",
        "        print(f\"Epoch {epoch}: m = {m}, c = {c}\")\n"
      ],
      "metadata": {
        "colab": {
          "base_uri": "https://localhost:8080/"
        },
        "id": "Jszr0Tv_lbBT",
        "outputId": "dbc45a94-64f6-42ae-c095-3a027a50e3ef"
      },
      "execution_count": null,
      "outputs": [
        {
          "output_type": "stream",
          "name": "stdout",
          "text": [
            "Epoch 0: m = [0.9], c = [-0.9]\n",
            "Epoch 10: m = [0.51716331], c = [-0.52481472]\n",
            "Epoch 20: m = [0.33052403], c = [-0.34862642]\n",
            "Epoch 30: m = [0.20332446], c = [-0.23316236]\n",
            "Epoch 40: m = [0.10907208], c = [-0.15129943]\n",
            "Epoch 50: m = [0.03654076], c = [-0.09132783]\n",
            "Epoch 60: m = [-0.02042923], c = [-0.04670167]\n",
            "Epoch 70: m = [-0.06572309], c = [-0.01323979]\n",
            "Epoch 80: m = [-0.10200991], c = [0.01193774]\n",
            "Epoch 90: m = [-0.13122697], c = [0.03090276]\n"
          ]
        }
      ]
    },
    {
      "cell_type": "code",
      "source": [
        "# Predictions for train and test sets\n",
        "y_train_pred = m * X_train + c\n",
        "y_test_pred = m * X_test + c\n",
        "\n",
        "# Compute error metrics\n",
        "mse_train = mean_squared_error(y_train, y_train_pred)\n",
        "rmse_train = np.sqrt(mse_train)\n",
        "mae_train = mean_absolute_error(y_train, y_train_pred)\n",
        "\n",
        "mse_test = mean_squared_error(y_test, y_test_pred)\n",
        "rmse_test = np.sqrt(mse_test)\n",
        "mae_test = mean_absolute_error(y_test, y_test_pred)\n",
        "\n",
        "print(f\"Train MSE: {mse_train}, RMSE: {rmse_train}, MAE: {mae_train}\")\n",
        "print(f\"Test MSE: {mse_test}, RMSE: {rmse_test}, MAE: {mae_test}\")\n"
      ],
      "metadata": {
        "colab": {
          "base_uri": "https://localhost:8080/"
        },
        "id": "8Xj6C7_NlejD",
        "outputId": "7cbb0519-d772-45f7-b46a-865c7aedd43e"
      },
      "execution_count": null,
      "outputs": [
        {
          "output_type": "stream",
          "name": "stdout",
          "text": [
            "Train MSE: 0.8663143296049667, RMSE: 0.9307600816563668, MAE: 0.7899221248075965\n",
            "Test MSE: 1.1060316235830032, RMSE: 1.0516803809061968, MAE: 0.8725036887336399\n"
          ]
        }
      ]
    },
    {
      "cell_type": "code",
      "source": [
        "plt.scatter(X_train, y_train, color=\"blue\", label=\"Actual Data\")\n",
        "plt.plot(X_train, y_train_pred, color=\"red\", label=\"AdaGrad Regression Line\")\n",
        "plt.xlabel(\"Load (Previous Week)\")\n",
        "plt.ylabel(\"Load (Current Week)\")\n",
        "plt.legend()\n",
        "plt.title(\"Linear Regression with AdaGrad\")\n",
        "plt.show()\n"
      ],
      "metadata": {
        "colab": {
          "base_uri": "https://localhost:8080/",
          "height": 472
        },
        "id": "Q4P9466slg0G",
        "outputId": "b0b66578-e4f7-46df-914c-df4773eec8a9"
      },
      "execution_count": null,
      "outputs": [
        {
          "output_type": "display_data",
          "data": {
            "text/plain": [
              "<Figure size 640x480 with 1 Axes>"
            ],
            "image/png": "[encoded data removed]"
          },
          "metadata": {}
        }
      ]
    }
  ]
}