{
  "nbformat": 4,
  "nbformat_minor": 0,
  "metadata": {
    "colab": {
      "provenance": [],
      "authorship_tag": "ABX9TyMLM0pZdF3a+9No55/mnvpH",
      "include_colab_link": true
    },
    "kernelspec": {
      "name": "python3",
      "display_name": "Python 3"
    },
    "language_info": {
      "name": "python"
    }
  },
  "cells": [
    {
      "cell_type": "markdown",
      "metadata": {
        "id": "view-in-github",
        "colab_type": "text"
      },
      "source": [
        "<a href=\"https://colab.research.google.com/github/pagadalaAnu/2203A52046_Deep-Learning/blob/main/2203A52046_DEEP_LEARNING_LAB_ASSIGNMENT_5.ipynb\" target=\"_parent\"><img src=\"https://colab.research.google.com/assets/colab-badge.svg\" alt=\"Open In Colab\"/></a>"
      ]
    },
    {
      "cell_type": "code",
      "execution_count": 1,
      "metadata": {
        "colab": {
          "base_uri": "https://localhost:8080/"
        },
        "id": "LQqt2n_QUsAL",
        "outputId": "41bfa058-a4aa-400a-9233-5feeeaf3e829"
      },
      "outputs": [
        {
          "output_type": "stream",
          "name": "stdout",
          "text": [
            "Epoch 0, Loss: 0.061705519532172785\n",
            "Epoch 1000, Loss: 1.0950729480152149e-05\n",
            "Epoch 2000, Loss: 3.496379081994137e-06\n",
            "Epoch 3000, Loss: 2.930933439390745e-06\n",
            "Epoch 4000, Loss: 2.5901151012134024e-06\n",
            "Epoch 5000, Loss: 2.292915733099337e-06\n",
            "Epoch 6000, Loss: 2.029950905787219e-06\n",
            "Epoch 7000, Loss: 1.7971621605649795e-06\n",
            "Epoch 8000, Loss: 1.5910819019858498e-06\n",
            "Epoch 9000, Loss: 1.4086445340206595e-06\n",
            "Test Mean Squared Error: 4.445377349389475e-06\n",
            "Enter x1: 0.1\n",
            "Enter x2: 0.3\n",
            "Enter x3: 0.2\n",
            "Predicted Output: 0.5340190218301447\n"
          ]
        }
      ],
      "source": [
        "import numpy as np\n",
        "def sigmoid(x):\n",
        "    return 1 / (1 + np.exp(-x))\n",
        "def sigmoid_derivative(x):\n",
        "    return x * (1 - x)\n",
        "x_train = np.array([\n",
        "    [0.1, 0.2, 0.3],\n",
        "    [0.2, 0.3, 0.4],\n",
        "    [0.3, 0.4, 0.5],\n",
        "    [0.5, 0.6, 0.7],\n",
        "    [0.1, 0.3, 0.5],\n",
        "    [0.2, 0.4, 0.6],\n",
        "    [0.3, 0.5, 0.7],\n",
        "    [0.4, 0.6, 0.8],\n",
        "    [0.5, 0.7, 0.1]\n",
        "])\n",
        "y_train = np.array([[0.5349], [0.5498], [0.5646], [0.5939], [0.5548], [0.5695], [0.5842], [0.5987], [0.5548]])\n",
        "np.random.seed(42)\n",
        "weights = np.random.rand(3, 1)\n",
        "bias = np.random.rand(1)\n",
        "learning_rate = 0.1\n",
        "epochs = 10000\n",
        "for epoch in range(epochs):\n",
        "    weighted_sum = np.dot(x_train, weights) + bias\n",
        "    y_pred = sigmoid(weighted_sum)\n",
        "    error = y_train - y_pred\n",
        "    d_weights = np.dot(x_train.T, error * sigmoid_derivative(y_pred))\n",
        "    d_bias = np.sum(error * sigmoid_derivative(y_pred))\n",
        "    weights += learning_rate * d_weights\n",
        "    bias += learning_rate * d_bias\n",
        "    if epoch % 1000 == 0:\n",
        "        loss = np.mean(error ** 2)\n",
        "        print(f\"Epoch {epoch}, Loss: {loss}\")\n",
        "x_test = np.array([[0.6, 0.7, 0.8], [0.7, 0.8, 0.9]])\n",
        "y_test = np.array([[0.6083], [0.6225]])\n",
        "y_test_pred = sigmoid(np.dot(x_test, weights) + bias)\n",
        "test_error = np.mean((y_test - y_test_pred) ** 2)\n",
        "print(f\"Test Mean Squared Error: {test_error}\")\n",
        "x_input = np.array([float(input(\"Enter x1: \")), float(input(\"Enter x2: \")), float(input(\"Enter x3: \"))])\n",
        "y_output = sigmoid(np.dot(x_input, weights) + bias)\n",
        "print(f\"Predicted Output: {y_output[0]}\")\n"
      ]
    }
  ]
}